{
 "cells": [
  {
   "cell_type": "markdown",
   "id": "43da0160-6476-4df6-9789-1bb3a5cfdb60",
   "metadata": {},
   "source": [
    "## ✨ Python Functions Assignment\n",
    "\n",
    "### Intermediate Level\n",
    "\n",
    "### Instructions:\n",
    "- Carefully read each question and understand what the function is supposed to do.\n",
    "- Create a Python function for each problem following the given function names and parameter names.\n",
    "- Test your functions with various examples to make sure they work correctly.\n",
    "- Add comments to explain your logic if needed.\n",
    "- Have fun solving these problems, and don't hesitate to ask questions if you're stuck!\n",
    "\n",
    "    ---\n",
    "\n",
    "Wishing you all a wonderful coding experience and a great weekend! 🚀\n"
   ]
  },
  {
   "cell_type": "code",
   "execution_count": null,
   "id": "b34e4535-0666-4d09-a7de-4f9a4e12724d",
   "metadata": {},
   "outputs": [],
   "source": []
  },
  {
   "cell_type": "markdown",
   "id": "737f09db-ab14-48c5-af06-9c0681a211b6",
   "metadata": {},
   "source": [
    "# 1. **Sum of Digits**  \n",
    "    Write a function `sum_of_digits(n)` that takes a positive integer and returns the sum of its digits.  \n",
    "    - Example: `sum_of_digits(123)` → `6`\n",
    "\n"
   ]
  },
  {
   "cell_type": "code",
   "execution_count": 17,
   "id": "23f3f842-59a0-4446-ad01-f460623c3831",
   "metadata": {},
   "outputs": [],
   "source": [
    "def sum_of_digits(numbers):\n",
    "    total = 0\n",
    "    for i in numbers:\n",
    "        total += i\n",
    "    return total"
   ]
  },
  {
   "cell_type": "code",
   "execution_count": 19,
   "id": "f5baedac-1b7c-49aa-8ac1-429e8f26e981",
   "metadata": {},
   "outputs": [
    {
     "data": {
      "text/plain": [
       "112"
      ]
     },
     "execution_count": 19,
     "metadata": {},
     "output_type": "execute_result"
    }
   ],
   "source": [
    "sum_of_digits([5,9,12,54,21,3,8])"
   ]
  },
  {
   "cell_type": "code",
   "execution_count": null,
   "id": "10d461e5-2b4b-46cd-a20b-59590112d281",
   "metadata": {},
   "outputs": [],
   "source": []
  },
  {
   "cell_type": "markdown",
   "id": "71f247f3-6ec3-411f-8c2c-82a0a3fc2bcf",
   "metadata": {},
   "source": [
    "# 2. **Find Duplicates**  \n",
    "    Create a function `find_duplicates(numbers)` that returns a list of duplicate numbers from a given list.  \n",
    "    - Example: `find_duplicates([1, 2, 3, 2, 4, 5, 4])` → `[2, 4]`"
   ]
  },
  {
   "cell_type": "code",
   "execution_count": 19,
   "id": "e1085480-948d-455d-9712-4d84191f8600",
   "metadata": {},
   "outputs": [],
   "source": [
    "def find_duplicates(numbers):\n",
    "    seen = set()\n",
    "    duplicates = set()\n",
    "\n",
    "    for num in numbers:\n",
    "        if num in seen:\n",
    "            duplicates.add(num)\n",
    "        else:\n",
    "            seen.add(num)\n",
    "\n",
    "    return list(duplicates)"
   ]
  },
  {
   "cell_type": "code",
   "execution_count": 21,
   "id": "d82e5802-9748-44b6-a29e-f86d3d31bcb4",
   "metadata": {},
   "outputs": [
    {
     "name": "stdout",
     "output_type": "stream",
     "text": [
      "[1, 2]\n"
     ]
    }
   ],
   "source": [
    "numbers = [1, 2, 3, 4, 2, 5, 1, 6, 7]\n",
    "print(find_duplicates(numbers))"
   ]
  },
  {
   "cell_type": "code",
   "execution_count": null,
   "id": "f5765e44-e256-4335-8a8f-d1be26d2a998",
   "metadata": {},
   "outputs": [],
   "source": []
  },
  {
   "cell_type": "markdown",
   "id": "868a1b4a-1f8c-469d-a072-a84f78fbff05",
   "metadata": {},
   "source": [
    "# 3. **Count Occurrences of a Word**  \n",
    "    Write a function `count_word_occurrences(sentence, word)` that counts how many times a given word appears in a sentence.  \n",
    "    - Example: `count_word_occurrences(\"apple banana apple\", \"apple\")` → `2`"
   ]
  },
  {
   "cell_type": "code",
   "execution_count": 23,
   "id": "c087f1a6-d9e7-43a5-9969-94c7818025cd",
   "metadata": {},
   "outputs": [],
   "source": [
    "def count_word_occurrences(sentence, word):\n",
    "    # Convert both sentence and word to lowercase for case-insensitive matching\n",
    "    sentence = sentence.lower()\n",
    "    word = word.lower()\n",
    "\n",
    "    # Split the sentence into words and count occurrences of the word\n",
    "    words = sentence.split()\n",
    "    return words.count(word)"
   ]
  },
  {
   "cell_type": "code",
   "execution_count": 25,
   "id": "da723757-d32b-4e66-9216-85e4b21c825a",
   "metadata": {},
   "outputs": [
    {
     "name": "stdout",
     "output_type": "stream",
     "text": [
      "3\n"
     ]
    }
   ],
   "source": [
    "sentence = \"The quick brown fox jumps over the lazy dog. The dog is fast.\"\n",
    "word = \"the\"\n",
    "print(count_word_occurrences(sentence, word))"
   ]
  },
  {
   "cell_type": "code",
   "execution_count": null,
   "id": "20e09cf5-a550-448f-9b0a-ef4193104bf5",
   "metadata": {},
   "outputs": [],
   "source": []
  },
  {
   "cell_type": "markdown",
   "id": "2315e444-93c2-4bf0-b33c-7cb82fc45e38",
   "metadata": {},
   "source": [
    "# 4. **Convert Celsius to Fahrenheit**  \n",
    "    Define a function `celsius_to_fahrenheit(celsius)` that converts a temperature from Celsius to Fahrenheit.  \n",
    "    - Formula: `(celsius * 9/5) + 32`"
   ]
  },
  {
   "cell_type": "code",
   "execution_count": 41,
   "id": "008e0cfd-620d-4d5f-96e7-ff9b0b826053",
   "metadata": {},
   "outputs": [],
   "source": [
    "def celsius_to_fahrenheit(celsius):\n",
    "    fahrenheit = (celsius * 9/5) + 32\n",
    "    return fahrenheit"
   ]
  },
  {
   "cell_type": "code",
   "execution_count": 43,
   "id": "f9e4f6b7-d475-42eb-b158-d238872e53fa",
   "metadata": {
    "scrolled": true
   },
   "outputs": [
    {
     "name": "stdout",
     "output_type": "stream",
     "text": [
      "25°C is equal to 77.0°F\n"
     ]
    }
   ],
   "source": [
    "temperature_in_celsius = 25\n",
    "temperature_in_fahrenheit = celsius_to_fahrenheit(temperature_in_celsius)\n",
    "print(f\"{temperature_in_celsius}°C is equal to {temperature_in_fahrenheit}°F\")"
   ]
  },
  {
   "cell_type": "code",
   "execution_count": null,
   "id": "582483da-01b9-4e03-bf7d-1359388564e3",
   "metadata": {},
   "outputs": [],
   "source": []
  },
  {
   "cell_type": "markdown",
   "id": "ba7d8b28-2e0c-472a-a790-bb76b78c5f89",
   "metadata": {},
   "source": [
    "# 5. **Find Common Elements**  \n",
    "    Write a function `common_elements(list1, list2)` that takes two lists and returns a new list containing elements common to both.  \n",
    "    - Example: `common_elements([1, 2, 3], [3, 4, 5])` → `[3]`"
   ]
  },
  {
   "cell_type": "code",
   "execution_count": 31,
   "id": "3bed43c8-f1e7-402d-9761-06cc64c12ea0",
   "metadata": {},
   "outputs": [],
   "source": [
    "def common_elements(list1, list2):\n",
    "    return list(set(list1) & set(list2))"
   ]
  },
  {
   "cell_type": "code",
   "execution_count": 33,
   "id": "0578df19-da17-472a-adaf-b34fcfbd36fd",
   "metadata": {},
   "outputs": [
    {
     "name": "stdout",
     "output_type": "stream",
     "text": [
      "[3, 4, 5]\n"
     ]
    }
   ],
   "source": [
    "list1 = [1, 2, 3, 4, 5]\n",
    "list2 = [3, 4, 5, 6, 7]\n",
    "\n",
    "common = common_elements(list1, list2)\n",
    "print(common)  # Output: [3, 4, 5]"
   ]
  },
  {
   "cell_type": "code",
   "execution_count": null,
   "id": "48b0b0da-aafa-4099-ab18-a92991d4b2f1",
   "metadata": {},
   "outputs": [],
   "source": []
  },
  {
   "cell_type": "markdown",
   "id": "d3ce6dcb-21c0-485d-8a47-c05dd4ccc420",
   "metadata": {},
   "source": [
    "# 6. **Remove Duplicates**  \n",
    "    Create a function `remove_duplicates(numbers)` that removes duplicate numbers from a list and returns a list of unique elements.\n"
   ]
  },
  {
   "cell_type": "code",
   "execution_count": 37,
   "id": "30ba49d1-cf3c-4853-aaf3-114a69e9e68d",
   "metadata": {},
   "outputs": [],
   "source": [
    "def remove_duplicates(numbers):\n",
    "    # Convert the list to a set to remove duplicates, then convert it back to a list\n",
    "    return list(set(numbers))"
   ]
  },
  {
   "cell_type": "code",
   "execution_count": 39,
   "id": "8fb8fd61-5cbf-4c4c-a4d5-5bbfe6fa5945",
   "metadata": {},
   "outputs": [
    {
     "name": "stdout",
     "output_type": "stream",
     "text": [
      "[1, 2, 3, 4, 5]\n"
     ]
    }
   ],
   "source": [
    "numbers = [1, 2, 2, 3, 4, 4, 5]\n",
    "unique_numbers = remove_duplicates(numbers)\n",
    "print(unique_numbers)  # Output: [1, 2, 3, 4, 5]"
   ]
  },
  {
   "cell_type": "code",
   "execution_count": null,
   "id": "b8465255-1670-44e5-839e-119f76a65099",
   "metadata": {},
   "outputs": [],
   "source": []
  },
  {
   "cell_type": "markdown",
   "id": "849aa59b-4abc-40e4-8a76-2be610c358e9",
   "metadata": {},
   "source": [
    "# 7. **Longest Word in a Sentence**  \n",
    "    Write a function `longest_word(sentence)` that finds and returns the longest word in a given sentence."
   ]
  },
  {
   "cell_type": "code",
   "execution_count": 41,
   "id": "eeb5e0b2-f85e-46ff-b036-e2bcbace4821",
   "metadata": {},
   "outputs": [],
   "source": [
    "def longest_word(sentence):\n",
    "    # Split the sentence into words\n",
    "    words = sentence.split()\n",
    "    \n",
    "    # Find the longest word using the max function with key=len\n",
    "    longest = max(words, key=len)\n",
    "    \n",
    "    return longest"
   ]
  },
  {
   "cell_type": "code",
   "execution_count": 43,
   "id": "a98eeafa-6ed1-4018-bdfd-97134b0971bf",
   "metadata": {},
   "outputs": [
    {
     "name": "stdout",
     "output_type": "stream",
     "text": [
      "programming\n"
     ]
    }
   ],
   "source": [
    "sentence = \"I am learning Python programming\"\n",
    "longest = longest_word(sentence)\n",
    "print(longest)  # Output: \"programming\""
   ]
  },
  {
   "cell_type": "code",
   "execution_count": null,
   "id": "f6d31085-6e73-431c-839f-3ff81e2bcd84",
   "metadata": {},
   "outputs": [],
   "source": []
  },
  {
   "cell_type": "markdown",
   "id": "cf0cd4f2-943e-40d1-afcd-a339bf5234a5",
   "metadata": {},
   "source": [
    "# 8. **Sum of Squares**  \n",
    "    Create a function `sum_of_squares(numbers)` that returns the sum of the squares of all numbers in a list.  \n",
    "    - Example: `sum_of_squares([1, 2, 3])` → `14`"
   ]
  },
  {
   "cell_type": "code",
   "execution_count": 45,
   "id": "2f4e61c3-f247-4f09-a36c-2690536e6e43",
   "metadata": {},
   "outputs": [],
   "source": [
    "def sum_of_squares(numbers):\n",
    "    # Use list comprehension to square each number and sum them\n",
    "    return sum([num ** 2 for num in numbers])"
   ]
  },
  {
   "cell_type": "code",
   "execution_count": 47,
   "id": "52e84bb2-7b35-4951-a664-6491e015bbae",
   "metadata": {},
   "outputs": [
    {
     "name": "stdout",
     "output_type": "stream",
     "text": [
      "30\n"
     ]
    }
   ],
   "source": [
    "numbers = [1, 2, 3, 4]\n",
    "result = sum_of_squares(numbers)\n",
    "print(result)  # Output: 30"
   ]
  },
  {
   "cell_type": "code",
   "execution_count": null,
   "id": "e24c6f12-f191-47a2-9737-66386587a95c",
   "metadata": {},
   "outputs": [],
   "source": []
  },
  {
   "cell_type": "markdown",
   "id": "489cbc97-025f-4b8b-aac1-235437a85f18",
   "metadata": {},
   "source": [
    "# 9. **Find Factorials for a List of Numbers**  \n",
    "    Write a function `list_factorials(numbers)` that takes a list of integers and returns a list of their factorials."
   ]
  },
  {
   "cell_type": "code",
   "execution_count": 49,
   "id": "a31c9f1f-d054-48b1-8810-631957d4ce2c",
   "metadata": {},
   "outputs": [],
   "source": [
    "import math\n",
    "\n",
    "def list_factorials(numbers):\n",
    "    # Use list comprehension to calculate factorial for each number\n",
    "    return [math.factorial(num) for num in numbers]"
   ]
  },
  {
   "cell_type": "code",
   "execution_count": 51,
   "id": "0d94d875-70e4-4ace-a138-7249b152b4cd",
   "metadata": {},
   "outputs": [
    {
     "name": "stdout",
     "output_type": "stream",
     "text": [
      "[1, 2, 6, 24, 120]\n"
     ]
    }
   ],
   "source": [
    "numbers = [1, 2, 3, 4, 5]\n",
    "factorials = list_factorials(numbers)\n",
    "print(factorials)  # Output: [1, 2, 6, 24, 120]"
   ]
  },
  {
   "cell_type": "code",
   "execution_count": null,
   "id": "0743c166-69fa-49f2-b220-484d5153b2ed",
   "metadata": {},
   "outputs": [],
   "source": []
  },
  {
   "cell_type": "markdown",
   "id": "7d07b7f7-d131-44b8-9f6e-d4e29e81f79f",
   "metadata": {},
   "source": [
    "# 10. **Title Case a Sentence**  \n",
    "    Define a function `title_case(sentence)` that converts a sentence so that the first letter of each word is capitalized.  \n",
    "    - Example: `title_case(\"hello world\")` → `\"Hello World\"`"
   ]
  },
  {
   "cell_type": "code",
   "execution_count": 53,
   "id": "e5beb826-a729-4dae-b816-06c2545fe020",
   "metadata": {},
   "outputs": [],
   "source": [
    "def title_case(sentence):\n",
    "    # Use the str.title() method to capitalize the first letter of each word\n",
    "    return sentence.title()"
   ]
  },
  {
   "cell_type": "code",
   "execution_count": 55,
   "id": "40e2fdfa-9cc6-4544-bf8f-bc694d76e0a1",
   "metadata": {},
   "outputs": [
    {
     "name": "stdout",
     "output_type": "stream",
     "text": [
      "Hello World, This Is A Test Sentence.\n"
     ]
    }
   ],
   "source": [
    "sentence = \"hello world, this is a test sentence.\"\n",
    "result = title_case(sentence)\n",
    "print(result)  # Output: \"Hello World, This Is A Test Sentence.\""
   ]
  },
  {
   "cell_type": "code",
   "execution_count": 13,
   "id": "ac4634b0-2e7e-470f-872e-14e64da29810",
   "metadata": {},
   "outputs": [
    {
     "ename": "NameError",
     "evalue": "name 'sentence' is not defined",
     "output_type": "error",
     "traceback": [
      "\u001b[1;31m---------------------------------------------------------------------------\u001b[0m",
      "\u001b[1;31mNameError\u001b[0m                                 Traceback (most recent call last)",
      "Cell \u001b[1;32mIn[13], line 1\u001b[0m\n\u001b[1;32m----> 1\u001b[0m sentence\u001b[38;5;241m.\u001b[39muppercase()\n",
      "\u001b[1;31mNameError\u001b[0m: name 'sentence' is not defined"
     ]
    }
   ],
   "source": [
    "sentence.uppercase()"
   ]
  },
  {
   "cell_type": "code",
   "execution_count": null,
   "id": "75449c43-367b-4db5-9c5d-f1bd1090233b",
   "metadata": {},
   "outputs": [],
   "source": []
  }
 ],
 "metadata": {
  "kernelspec": {
   "display_name": "Python [conda env:base] *",
   "language": "python",
   "name": "conda-base-py"
  },
  "language_info": {
   "codemirror_mode": {
    "name": "ipython",
    "version": 3
   },
   "file_extension": ".py",
   "mimetype": "text/x-python",
   "name": "python",
   "nbconvert_exporter": "python",
   "pygments_lexer": "ipython3",
   "version": "3.12.7"
  }
 },
 "nbformat": 4,
 "nbformat_minor": 5
}
